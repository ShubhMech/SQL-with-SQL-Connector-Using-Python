{
 "cells": [
  {
   "cell_type": "code",
   "execution_count": 2,
   "id": "7b723bb6-69f0-4834-af41-37f5d23d6ce9",
   "metadata": {},
   "outputs": [],
   "source": [
    "import mysql.connector\n",
    "from mysql.connector import Error\n",
    "import pandas as pd"
   ]
  },
  {
   "cell_type": "code",
   "execution_count": 3,
   "id": "ab196d82-51d3-4b4b-ad5d-a8ee490dc827",
   "metadata": {},
   "outputs": [],
   "source": [
    "def my_connection(host_name, user_name,password):\n",
    "    connection=mysql.connector.connect(\n",
    "    host=host_name,\n",
    "    user=user_name,\n",
    "    passwd=password\n",
    "    )\n",
    "    print('Connection made')\n",
    "    return connection"
   ]
  },
  {
   "cell_type": "code",
   "execution_count": 4,
   "id": "3d5cd603-dfb6-49db-aec4-eb96e059d20d",
   "metadata": {},
   "outputs": [
    {
     "name": "stdout",
     "output_type": "stream",
     "text": [
      "Connection made\n"
     ]
    }
   ],
   "source": [
    "connection=my_connection(\"localhost\",\"root\",\"swa#shu1\")"
   ]
  },
  {
   "cell_type": "code",
   "execution_count": 5,
   "id": "f27e74a3-fc42-4581-9414-29bd1598cad2",
   "metadata": {},
   "outputs": [],
   "source": [
    "def create_database(connection,query):\n",
    "    cursor=connection.cursor()\n",
    "    try:\n",
    "        cursor.execute(query)\n",
    "    except:\n",
    "        print(\"Sorry, can't create a database with the given inputs\")"
   ]
  },
  {
   "cell_type": "code",
   "execution_count": 7,
   "id": "59a3b3e1-4dde-4a66-b4aa-2abab75bc240",
   "metadata": {},
   "outputs": [],
   "source": [
    "create_database(connection,query=\"create database hey\")"
   ]
  },
  {
   "cell_type": "markdown",
   "id": "9f4f2ef6-bf6a-4775-82ce-c7804fd1c0fc",
   "metadata": {},
   "source": [
    "**Connecting to a database now:**"
   ]
  },
  {
   "cell_type": "code",
   "execution_count": 8,
   "id": "72e85ddc-7509-47a6-940a-52b8ccd4ace9",
   "metadata": {},
   "outputs": [],
   "source": [
    "def connect_to_db(host_name, user_name,password,db_name):\n",
    "    connection=mysql.connector.connect(\n",
    "    host=host_name,\n",
    "    user=user_name,\n",
    "    passwd=password,\n",
    "    database=db_name\n",
    "    )\n",
    "    print('Connection made to the Database')\n",
    "    return connection"
   ]
  },
  {
   "cell_type": "code",
   "execution_count": 9,
   "id": "9996d7f2-03bc-43bb-a055-28fa9b0629fe",
   "metadata": {},
   "outputs": [
    {
     "name": "stdout",
     "output_type": "stream",
     "text": [
      "Connection made to the Database\n"
     ]
    },
    {
     "data": {
      "text/plain": [
       "<mysql.connector.connection.MySQLConnection at 0x1fa38eb6250>"
      ]
     },
     "execution_count": 9,
     "metadata": {},
     "output_type": "execute_result"
    }
   ],
   "source": [
    "connect_to_db(\"localhost\",\"root\",\"swa#shu1\",\"hey\")"
   ]
  },
  {
   "cell_type": "markdown",
   "id": "6e589309-d062-4651-a235-146034c30dab",
   "metadata": {},
   "source": [
    "#### Executing queries:"
   ]
  },
  {
   "cell_type": "code",
   "execution_count": 10,
   "id": "957a9a38-9242-4ef5-8c9b-9eaae2d9481b",
   "metadata": {},
   "outputs": [],
   "source": [
    "def execute_query(connection,query):\n",
    "    cursor=connection.cursor()\n",
    "#     try:\n",
    "    cursor.execute(query)\n",
    "    connection.commit()\n",
    "    print(\"Query executed successfully\")\n",
    "    \n",
    "#     except:\n",
    "#         print('Unsuccesful this time, please try again.')"
   ]
  },
  {
   "cell_type": "code",
   "execution_count": 11,
   "id": "b72c0563-21e4-4912-8076-14d66c70edd7",
   "metadata": {},
   "outputs": [
    {
     "name": "stdout",
     "output_type": "stream",
     "text": [
      "Connection made to the Database\n",
      "Query executed successfully\n"
     ]
    }
   ],
   "source": [
    "query=\"\"\"\n",
    "\n",
    "create table hello(\n",
    "\n",
    "name varchar(20) Default 'Enter your name',\n",
    "emp_id int Primary Key,\n",
    "age int Default 18 check(age>=18),\n",
    "sex char,\n",
    "job_title varchar(30) Default 'Data Scientist at Google'\n",
    ")\n",
    "\n",
    "\"\"\"\n",
    "connection=connect_to_db(\"localhost\",\"root\",\"swa#shu1\",\"hey\")\n",
    "execute_query(connection,query)"
   ]
  },
  {
   "cell_type": "code",
   "execution_count": 40,
   "id": "43423216-6b1a-4f83-a165-61476b4cef20",
   "metadata": {},
   "outputs": [
    {
     "data": {
      "image/png": "[encoded data removed]",
      "text/plain": [
       "<PIL.PngImagePlugin.PngImageFile image mode=RGB size=402x287 at 0x1E29BC2E580>"
      ]
     },
     "execution_count": 40,
     "metadata": {},
     "output_type": "execute_result"
    }
   ],
   "source": [
    "from PIL import Image\n",
    "Image.open(r\"C:\\Users\\Asus\\Desktop\\scr.png\")"
   ]
  },
  {
   "cell_type": "markdown",
   "id": "2ca034af-edb9-49a5-8f78-86677d53c385",
   "metadata": {},
   "source": [
    "**Inserting values into the table now**"
   ]
  },
  {
   "cell_type": "code",
   "execution_count": 12,
   "id": "56587f08-e94d-4415-b08c-f2b9f595e3ac",
   "metadata": {},
   "outputs": [
    {
     "name": "stdout",
     "output_type": "stream",
     "text": [
      "Connection made to the Database\n",
      "Query executed successfully\n"
     ]
    }
   ],
   "source": [
    "query=\"\"\"\n",
    "Insert into hello \n",
    "values\n",
    "('Shubham Mishra',193109001, 25, 'M', 'Data Scientist at Google'),\n",
    "('Shubham Mishra',207647, 25, 'M', 'Data Scientist at IBM'),\n",
    "('Shubham Mishra',1405240048, 25, 'M', 'Data Scientist at Microsoft'),\n",
    "('Shubham Mishra',83181, 25, 'M', 'Data Scientist at Apple'),\n",
    "('Shubham Mishra',68735, 25, 'M', 'Data Scientist at Tesla'),\n",
    "('Shubham Mishra',05066, 25, 'M', 'Data Scientist at Airbus'),\n",
    "('Shubham Mishra',50929, 25, 'M', 'Data Scientist at Caterpillar')\n",
    "\n",
    "\"\"\"\n",
    "\n",
    "connection=connect_to_db(\"localhost\",\"root\",\"swa#shu1\",\"hey\")\n",
    "execute_query(connection,query)"
   ]
  },
  {
   "cell_type": "code",
   "execution_count": 44,
   "id": "9bda7150-ad3c-4c97-90b8-bc450bad6db9",
   "metadata": {},
   "outputs": [
    {
     "data": {
      "image/png": "[encoded data removed]",
      "text/plain": [
       "<PIL.Image.Image image mode=RGB size=300x300 at 0x1E29BC19E20>"
      ]
     },
     "execution_count": 44,
     "metadata": {},
     "output_type": "execute_result"
    }
   ],
   "source": [
    "from PIL import Image\n",
    "(Image.open(r\"C:\\Users\\Asus\\Desktop\\cc.png\")).resize((300,300))"
   ]
  },
  {
   "cell_type": "code",
   "execution_count": 13,
   "id": "030179e3-8a16-4e1d-800d-9d7f525de63e",
   "metadata": {},
   "outputs": [],
   "source": [
    "def read_query(connection,query):\n",
    "    cursor=connection.cursor()\n",
    "    try:\n",
    "        cursor.execute(query)\n",
    "        result=cursor.fetchone()\n",
    "#         connection.commit()\n",
    "        return result\n",
    "        print(\"Query executed successfully\")\n",
    "\n",
    "    except:\n",
    "        print('Unsuccesful this time, please try again.')"
   ]
  },
  {
   "cell_type": "code",
   "execution_count": 14,
   "id": "7839c67c-bd2c-435d-999e-d39d8fad5e2d",
   "metadata": {},
   "outputs": [
    {
     "name": "stdout",
     "output_type": "stream",
     "text": [
      "Connection made to the Database\n"
     ]
    },
    {
     "data": {
      "text/plain": [
       "('Shubham Mishra', 5066, 25, 'M', 'Data Scientist at Airbus')"
      ]
     },
     "execution_count": 14,
     "metadata": {},
     "output_type": "execute_result"
    }
   ],
   "source": [
    "# Using the select statement:\n",
    "query=\"\"\"\n",
    "select * from hey.hello\n",
    "\"\"\"\n",
    "\n",
    "connection=connect_to_db(\"localhost\",\"root\",\"swa#shu1\",\"hey\")\n",
    "read_query(connection,query)"
   ]
  },
  {
   "cell_type": "code",
   "execution_count": 15,
   "id": "ff90abe2-1305-42c5-90f9-e38a8cea9a59",
   "metadata": {},
   "outputs": [
    {
     "name": "stdout",
     "output_type": "stream",
     "text": [
      "Connection made to the Database\n"
     ]
    },
    {
     "data": {
      "text/plain": [
       "[('Shubham Mishra', 5066, 25, 'M', 'Data Scientist at Airbus'),\n",
       " ('Shubham Mishra', 50929, 25, 'M', 'Data Scientist at Caterpillar'),\n",
       " ('Shubham Mishra', 68735, 25, 'M', 'Data Scientist at Tesla'),\n",
       " ('Shubham Mishra', 83181, 25, 'M', 'Data Scientist at Apple'),\n",
       " ('Shubham Mishra', 207647, 25, 'M', 'Data Scientist at IBM'),\n",
       " ('Shubham Mishra', 193109001, 25, 'M', 'Data Scientist at Google'),\n",
       " ('Shubham Mishra', 1405240048, 25, 'M', 'Data Scientist at Microsoft')]"
      ]
     },
     "execution_count": 15,
     "metadata": {},
     "output_type": "execute_result"
    }
   ],
   "source": [
    "def read_query(connection,query):\n",
    "    cursor=connection.cursor()\n",
    "    try:\n",
    "        cursor.execute(query)\n",
    "        result=cursor.fetchall()\n",
    "#         connection.commit()\n",
    "        return result\n",
    "        print(\"Query executed successfully\")\n",
    "\n",
    "    except:\n",
    "        print('Unsuccesful this time, please try again.')\n",
    "\n",
    "# Using the select statement:\n",
    "query=\"\"\"\n",
    "select * from hey.hello\n",
    "\"\"\"\n",
    "\n",
    "connection=connect_to_db(\"localhost\",\"root\",\"swa#shu1\",\"hey\")\n",
    "read_query(connection,query)"
   ]
  },
  {
   "cell_type": "code",
   "execution_count": 16,
   "id": "c011d8aa-a374-4504-b48d-a4bd0866204f",
   "metadata": {},
   "outputs": [
    {
     "name": "stdout",
     "output_type": "stream",
     "text": [
      "Connection made to the Database\n"
     ]
    },
    {
     "data": {
      "text/plain": [
       "[('Shubham Mishra', 'Data Scientist at Caterpillar')]"
      ]
     },
     "execution_count": 16,
     "metadata": {},
     "output_type": "execute_result"
    }
   ],
   "source": [
    "query=\"\"\"\n",
    "select name, job_title  from hey.hello\n",
    "where emp_id=50929\n",
    "\"\"\"\n",
    "\n",
    "connection=connect_to_db(\"localhost\",\"root\",\"swa#shu1\",\"hey\")\n",
    "read_query(connection,query)"
   ]
  },
  {
   "cell_type": "code",
   "execution_count": 17,
   "id": "597f2586-8bc3-4b79-a066-b24dc77cfb1b",
   "metadata": {},
   "outputs": [
    {
     "name": "stdout",
     "output_type": "stream",
     "text": [
      "Connection made to the Database\n",
      "Query executed successfully\n"
     ]
    }
   ],
   "source": [
    "query=\"\"\"\n",
    "alter table hey.hello\n",
    "add Salary int Not Null\n",
    "\"\"\"\n",
    "\n",
    "connection=connect_to_db(\"localhost\",\"root\",\"swa#shu1\",\"hey\")\n",
    "execute_query(connection,query)"
   ]
  },
  {
   "cell_type": "code",
   "execution_count": 21,
   "id": "34dd8ab1-2107-4d68-aa72-f1b395eb7d29",
   "metadata": {},
   "outputs": [
    {
     "name": "stdout",
     "output_type": "stream",
     "text": [
      "Connection made to the Database\n",
      "Query executed successfully\n"
     ]
    }
   ],
   "source": [
    "query=\"\"\"\n",
    "UPDATE hey.hello \n",
    "SET Salary= 100000000\n",
    "\n",
    "\"\"\"\n",
    "\n",
    "connection=connect_to_db(\"localhost\",\"root\",\"swa#shu1\",\"hey\")\n",
    "execute_query(connection,query)\n",
    "\n",
    "\n",
    "# INSERT INTO Student VALUES (‘5′,’HARSH’,’WEST BENGAL’,’XXXXXXXXXX’,’19’);\n",
    "\n",
    "# UPDATE table_name\n",
    "# SET column1 = value1, column2 = value2, ...\n",
    "# WHERE condition;"
   ]
  },
  {
   "cell_type": "code",
   "execution_count": 23,
   "id": "d4c13d1c-27a9-486e-b87a-0be8aeaf4eda",
   "metadata": {},
   "outputs": [
    {
     "name": "stdout",
     "output_type": "stream",
     "text": [
      "Connection made to the Database\n"
     ]
    }
   ],
   "source": [
    "query=\"\"\"\n",
    "select * from hey.hello\n",
    "\"\"\"\n",
    "\n",
    "connection=connect_to_db(\"localhost\",\"root\",\"swa#shu1\",\"hey\")\n",
    "ans=read_query(connection,query)"
   ]
  },
  {
   "cell_type": "code",
   "execution_count": 25,
   "id": "1f727bf4-1221-4c0b-9da9-477d0aade45f",
   "metadata": {},
   "outputs": [
    {
     "name": "stdout",
     "output_type": "stream",
     "text": [
      "('Shubham Mishra', 5066, 25, 'M', 'Data Scientist at Airbus', 100000000)\n",
      "('Shubham Mishra', 50929, 25, 'M', 'Data Scientist at Caterpillar', 100000000)\n",
      "('Shubham Mishra', 68735, 25, 'M', 'Data Scientist at Tesla', 100000000)\n",
      "('Shubham Mishra', 83181, 25, 'M', 'Data Scientist at Apple', 100000000)\n",
      "('Shubham Mishra', 207647, 25, 'M', 'Data Scientist at IBM', 100000000)\n",
      "('Shubham Mishra', 193109001, 25, 'M', 'Data Scientist at Google', 100000000)\n",
      "('Shubham Mishra', 1405240048, 25, 'M', 'Data Scientist at Microsoft', 100000000)\n"
     ]
    }
   ],
   "source": [
    "for an in ans:\n",
    "    print(an)"
   ]
  },
  {
   "cell_type": "code",
   "execution_count": null,
   "id": "657d115f-61e7-4b14-b6d9-9ba02e7e9d83",
   "metadata": {},
   "outputs": [],
   "source": []
  }
 ],
 "metadata": {
  "kernelspec": {
   "display_name": "Python 3",
   "language": "python",
   "name": "python3"
  },
  "language_info": {
   "codemirror_mode": {
    "name": "ipython",
    "version": 3
   },
   "file_extension": ".py",
   "mimetype": "text/x-python",
   "name": "python",
   "nbconvert_exporter": "python",
   "pygments_lexer": "ipython3",
   "version": "3.8.5"
  }
 },
 "nbformat": 4,
 "nbformat_minor": 5
}
